{
 "metadata": {
  "name": "",
  "signature": "sha256:dd8ec1bac6f398f8d8d1bfa5c01e53328e3137fa5980a81f2c8fb1c4fd123fb1"
 },
 "nbformat": 3,
 "nbformat_minor": 0,
 "worksheets": [
  {
   "cells": [
    {
     "cell_type": "heading",
     "level": 1,
     "metadata": {},
     "source": [
      "\u041b\u0430\u0431\u043e\u0440\u0430\u0442\u043e\u0440\u043d\u0430\u044f \u0440\u0430\u0431\u043e\u0442\u0430 \u21161"
     ]
    },
    {
     "cell_type": "code",
     "collapsed": false,
     "input": [
      "import numpy as np\n",
      "import pandas\n",
      "\n",
      "train_data = pandas.read_csv(\"train.csv\")\n",
      "test_data = pandas.read_csv(\"test.csv\")\n",
      "\n",
      "data = train_data.append(test_data)"
     ],
     "language": "python",
     "metadata": {},
     "outputs": [],
     "prompt_number": 199
    },
    {
     "cell_type": "heading",
     "level": 2,
     "metadata": {},
     "source": [
      "1. \u0427\u0438\u0441\u043b\u043e \u043f\u0430\u0441\u0441\u0430\u0436\u0438\u0440\u043e\u0432, \u0435\u0445\u0430\u0432\u0448\u0438\u0445 \u043f\u0435\u0440\u0432\u044b\u043c \u043a\u043b\u0430\u0441\u0441\u043e\u043c"
     ]
    },
    {
     "cell_type": "code",
     "collapsed": false,
     "input": [
      "data['Pclass'][train_data['Pclass'] == 1].count()"
     ],
     "language": "python",
     "metadata": {},
     "outputs": [
      {
       "metadata": {},
       "output_type": "pyout",
       "prompt_number": 200,
       "text": [
        "310"
       ]
      }
     ],
     "prompt_number": 200
    },
    {
     "cell_type": "markdown",
     "metadata": {},
     "source": [
      "\u041f\u043e\u043b\u0443\u0447\u0430\u0435\u0442\u0441\u044f, \u0447\u0442\u043e \u0447\u0438\u0441\u043b\u043e \u043f\u0430\u0441\u0441\u0430\u0436\u0438\u0440\u043e\u0432, \u0435\u0445\u0430\u0432\u0448\u0438\u0445 \u043f\u0435\u0440\u0432\u044b\u043c \u043a\u043b\u0430\u0441\u0441\u043e\u043c, \u0440\u0430\u0432\u043d\u044f\u0435\u0442\u0441\u044f <i>310</i>"
     ]
    },
    {
     "cell_type": "heading",
     "level": 2,
     "metadata": {},
     "source": [
      "2. \u041a\u0430\u043a\u043e\u0439 \u0432\u043e\u0437\u0440\u0430\u0441\u0442 \u0438\u043c\u0435\u043b\u0438 \u043f\u0430\u0441\u0441\u0430\u0436\u0438\u0440\u044b?"
     ]
    },
    {
     "cell_type": "code",
     "collapsed": false,
     "input": [
      "data['Age'].describe()\n"
     ],
     "language": "python",
     "metadata": {},
     "outputs": [
      {
       "metadata": {},
       "output_type": "pyout",
       "prompt_number": 201,
       "text": [
        "count    1046.000000\n",
        "mean       29.881138\n",
        "std        14.413493\n",
        "min         0.170000\n",
        "25%        21.000000\n",
        "50%        28.000000\n",
        "75%        39.000000\n",
        "max        80.000000\n",
        "Name: Age, dtype: float64"
       ]
      }
     ],
     "prompt_number": 201
    },
    {
     "cell_type": "markdown",
     "metadata": {},
     "source": [
      "<p>\u0412\u0438\u0434\u043d\u043e, \u0447\u0442\u043e \u0441\u0430\u043c\u043e\u043c\u0443 \"\u043c\u043e\u043b\u043e\u0434\u043e\u043c\u0443\" \u0447\u0435\u043b\u043e\u0432\u0435\u043a\u0443 \u043d\u0430 \u043a\u043e\u0440\u0430\u0431\u043b\u0435 \u0431\u044b\u043b\u043e \u043e\u043a\u043e\u043b\u043e 2-\u0445 \u043c\u0435\u0441\u044f\u0446\u0435\u0432, \u0441\u0430\u043c\u043e\u043c\u0443 \u0441\u0442\u0430\u0440\u043e\u043c\u0443 - 80 \u043b\u0435\u0442.<br>\n",
      "\u0421\u0440\u0435\u0434\u043d\u0438\u0439 \u0432\u043e\u0437\u0440\u0430\u0441\u0442 \u043f\u0430\u0441\u0441\u0430\u0436\u0438\u0440\u043e\u0432 \u043d\u0430 \u043a\u043e\u0440\u0430\u0431\u043b\u0435 \u0441\u043e\u0441\u0442\u0430\u0432\u043b\u044f\u043b \u043e\u043a\u043e\u043b\u043e 30 \u043b\u0435\u0442.\n",
      "</p>\n"
     ]
    },
    {
     "cell_type": "heading",
     "level": 2,
     "metadata": {},
     "source": [
      "[todo]3. \u041a\u043e\u0440\u0440\u0435\u043b\u0438\u0440\u0443\u044e\u0442 \u043b\u0438 \u0447\u0438\u0441\u043b\u043e \u0431\u0440\u0430\u0442\u044c\u0435\u0432/\u0441\u0435\u0441\u0442\u0435\u0440 \u0441 \u0447\u0438\u0441\u043b\u043e\u043c \u0440\u043e\u0434\u0438\u0442\u0435\u043b\u0435\u0439/\u0434\u0435\u0442\u0435\u0439?"
     ]
    },
    {
     "cell_type": "code",
     "collapsed": false,
     "input": [],
     "language": "python",
     "metadata": {},
     "outputs": [],
     "prompt_number": 201
    },
    {
     "cell_type": "heading",
     "level": 2,
     "metadata": {},
     "source": [
      "4. \u0421\u0430\u043c\u043e\u0435 \u043f\u043e\u043f\u0443\u043b\u044f\u0440\u043d\u043e\u0435 \u0436\u0435\u043d\u0441\u043a\u043e\u0435 \u0438\u043c\u044f \u043d\u0430 \u043a\u043e\u0440\u0430\u0431\u043b\u0435"
     ]
    },
    {
     "cell_type": "code",
     "collapsed": false,
     "input": [
      "data['Name'][data.Sex == 'female'].describe()\n"
     ],
     "language": "python",
     "metadata": {},
     "outputs": [
      {
       "metadata": {},
       "output_type": "pyout",
       "prompt_number": 202,
       "text": [
        "count                      466\n",
        "unique                     465\n",
        "top       Connolly, Miss. Kate\n",
        "freq                         2\n",
        "Name: Name, dtype: object"
       ]
      }
     ],
     "prompt_number": 202
    },
    {
     "cell_type": "markdown",
     "metadata": {},
     "source": [
      "\u041e\u043a\u0430\u0437\u044b\u0432\u0430\u0435\u0442\u0441\u044f, \u0447\u0442\u043e \u0441\u0430\u043c\u043e\u0435 \u043f\u043e\u043f\u0443\u043b\u044f\u0440\u043d\u043e\u0435 \u0436\u0435\u043d\u0441\u043a\u043e\u0435 \u0438\u043c\u044f \u043d\u0430 \u043a\u043e\u0440\u0430\u0431\u043b\u0435 Connolly, Miss. Kate"
     ]
    },
    {
     "cell_type": "heading",
     "level": 2,
     "metadata": {},
     "source": [
      "5. \u041a\u0430\u043a \u0432\u0430\u0440\u044c\u0438\u0440\u0443\u0435\u0442\u0441\u044f \u0446\u0435\u043d\u0430 \u0431\u0438\u043b\u0435\u0442\u0430 \u043d\u0430 \u0422\u0438\u0442\u0430\u043d\u0438\u043a?"
     ]
    },
    {
     "cell_type": "code",
     "collapsed": false,
     "input": [
      "data.Fare.describe()\n"
     ],
     "language": "python",
     "metadata": {},
     "outputs": [
      {
       "metadata": {},
       "output_type": "pyout",
       "prompt_number": 203,
       "text": [
        "count    1308.000000\n",
        "mean       33.295479\n",
        "std        51.758668\n",
        "min         0.000000\n",
        "25%         7.895800\n",
        "50%        14.454200\n",
        "75%        31.275000\n",
        "max       512.329200\n",
        "Name: Fare, dtype: float64"
       ]
      }
     ],
     "prompt_number": 203
    },
    {
     "cell_type": "markdown",
     "metadata": {},
     "source": [
      "\u041c\u0430\u043a\u0441\u0438\u043c\u0430\u043b\u044c\u043d\u0430\u044f \u0446\u0435\u043d\u0430 \u043d\u0430 \u0431\u0438\u043b\u0435\u0442 \u0441\u043e\u0441\u0442\u0430\u0432\u043b\u044f\u043b\u0430 \u043e\u043a\u043e\u043b\u043e 512, \u043c\u0438\u043d\u0438\u043c\u0430\u043b\u044c\u043d\u0430\u044f - 0, \u0432\u0438\u0434\u0438\u043c\u043e, \u0434\u043b\u044f \u043c\u043e\u0440\u044f\u043a\u043e\u0432.<br>\n",
      "\u0421\u0440\u0435\u0434\u043d\u044f\u044f \u0446\u0435\u043d\u0430 - \u043e\u043a\u043e\u043b\u043e 33"
     ]
    },
    {
     "cell_type": "heading",
     "level": 2,
     "metadata": {},
     "source": [
      "6. \u041a\u0430\u043a\u0438\u0435 \u0442\u0438\u0442\u0443\u043b\u044b \u0438\u043c\u0435\u043b\u0438 \u043f\u0430\u0441\u0441\u0430\u0436\u0438\u0440\u044b (\u043f\u0440\u0438\u043c\u0435\u0440\u044b \u0442\u0438\u0442\u0443\u043b\u0430 \u2014 Mrs., Mr.), \u0435\u0434\u0443\u0449\u0438\u0435 \u0440\u0430\u0437\u043b\u0438\u0447\u043d\u044b\u043c\u0438 \u043a\u043b\u0430\u0441\u0441\u0430\u043c\u0438?"
     ]
    },
    {
     "cell_type": "code",
     "collapsed": false,
     "input": [
      "for pclass in range(1,4):\n",
      "\n",
      "    names = data['Name'][data.Pclass == pclass]\n",
      "    num_of_mr, num_of_mrs, num_of_miss = (0, 0, 0)\n",
      "    \n",
      "    for name in names:\n",
      "        name  = name.lower()\n",
      "        if name.find('mr.') != -1:\n",
      "            num_of_mr += 1\n",
      "        elif name.find('mrs.') != -1:\n",
      "            num_of_mrs += 1\n",
      "        elif name.find('miss') != -1:\n",
      "            num_of_miss += 1\n",
      "    \n",
      "    print 'Number of Mr.  title in passenger class', pclass, '=',  num_of_mr\n",
      "    print 'Number of Mrs. title in passenger class', pclass, '=',  num_of_mrs\n",
      "    print 'Number of Miss title in passenger class', pclass, '=',  num_of_miss\n",
      "    print '\\n'"
     ],
     "language": "python",
     "metadata": {
      "comments": {
       "": [
        null
       ]
      }
     },
     "outputs": [
      {
       "output_type": "stream",
       "stream": "stdout",
       "text": [
        "Number of Mr.  title in passenger class 1 = 159\n",
        "Number of Mrs. title in passenger class 1 = 77\n",
        "Number of Miss title in passenger class 1 = 60\n",
        "\n",
        "\n",
        "Number of Mr.  title in passenger class 2 = 150\n",
        "Number of Mrs. title in passenger class 2 = 55\n",
        "Number of Miss title in passenger class 2 = 50\n",
        "\n",
        "\n",
        "Number of Mr.  title in passenger class 3 = 448\n",
        "Number of Mrs. title in passenger class 3 = 65\n",
        "Number of Miss title in passenger class 3 = 150\n",
        "\n",
        "\n"
       ]
      }
     ],
     "prompt_number": 204
    },
    {
     "cell_type": "heading",
     "level": 2,
     "metadata": {},
     "source": [
      "[todo]7. \u0415\u0441\u0442\u044c \u043b\u0438 \u0437\u0430\u0432\u0438\u0441\u0438\u043c\u043e\u0441\u0442\u044c \u043c\u0435\u0436\u0434\u0443 \u043a\u043b\u0430\u0441\u0441\u043e\u043c \u0438 \u043d\u043e\u043c\u0435\u0440\u043e\u043c \u0431\u0438\u043b\u0435\u0442\u0430?"
     ]
    },
    {
     "cell_type": "code",
     "collapsed": false,
     "input": [
      "# print data.Ticket[data.Pclass == 1]\n",
      "# print data.Ticket[data.Pclass == 2]\n",
      "# print data.Ticket[data.Pclass == 3]\n"
     ],
     "language": "python",
     "metadata": {},
     "outputs": [],
     "prompt_number": 205
    },
    {
     "cell_type": "heading",
     "level": 2,
     "metadata": {},
     "source": [
      "8. \u041a\u0430\u043a\u043e\u0439 \u0447\u0430\u0441\u0442\u0438 \u043f\u0430\u0441\u0441\u0430\u0436\u0438\u0440\u043e\u0432 \u0443\u0434\u0430\u043b\u043e\u0441\u044c \u0432\u044b\u0436\u0438\u0442\u044c?"
     ]
    },
    {
     "cell_type": "code",
     "collapsed": false,
     "input": [
      "print data['Survived'].mean()\n",
      "\n",
      "data['Survived'].value_counts().plot(kind='barh', color=\"blue\")\n"
     ],
     "language": "python",
     "metadata": {},
     "outputs": [
      {
       "output_type": "stream",
       "stream": "stdout",
       "text": [
        "0.383838383838\n"
       ]
      },
      {
       "metadata": {},
       "output_type": "pyout",
       "prompt_number": 206,
       "text": [
        "<matplotlib.axes.AxesSubplot at 0xacea56ec>"
       ]
      },
      {
       "metadata": {},
       "output_type": "display_data",
       "png": "[encoded data removed]",
       "text": [
        "<matplotlib.figure.Figure at 0xacf246ac>"
       ]
      }
     ],
     "prompt_number": 206
    },
    {
     "cell_type": "heading",
     "level": 2,
     "metadata": {},
     "source": [
      "9. \u0412\u0435\u0440\u043d\u043e \u043b\u0438, \u0447\u0442\u043e \u0436\u0435\u043d\u0449\u0438\u043d\u044b \u0432\u044b\u0436\u0438\u0432\u0430\u043b\u0438 \u0447\u0430\u0449\u0435 \u043c\u0443\u0436\u0447\u0438\u043d?\n"
     ]
    },
    {
     "cell_type": "code",
     "collapsed": false,
     "input": [
      "data[\"Survived\"][data.Sex == \"male\"].value_counts()"
     ],
     "language": "python",
     "metadata": {},
     "outputs": [
      {
       "metadata": {},
       "output_type": "pyout",
       "prompt_number": 207,
       "text": [
        "0    468\n",
        "1    109\n",
        "dtype: int64"
       ]
      }
     ],
     "prompt_number": 207
    },
    {
     "cell_type": "code",
     "collapsed": false,
     "input": [
      "data[\"Survived\"][data.Sex == \"female\"].value_counts()"
     ],
     "language": "python",
     "metadata": {},
     "outputs": [
      {
       "metadata": {},
       "output_type": "pyout",
       "prompt_number": 208,
       "text": [
        "1    233\n",
        "0     81\n",
        "dtype: int64"
       ]
      }
     ],
     "prompt_number": 208
    },
    {
     "cell_type": "heading",
     "level": 2,
     "metadata": {},
     "source": [
      "10. \u0412\u0435\u0440\u043d\u043e \u043b\u0438, \u0447\u0442\u043e \u0447\u0430\u0449\u0435 \u0432\u044b\u0436\u0438\u0432\u0430\u043b\u0438 \u043f\u0430\u0441\u0441\u0430\u0436\u0438\u0440\u044b \u0441 \u0431\u043e\u043b\u0435\u0435 \u0434\u043e\u0440\u043e\u0433\u0438\u043c\u0438 \u0431\u0438\u043b\u0435\u0442\u0430\u043c\u0438?"
     ]
    },
    {
     "cell_type": "code",
     "collapsed": false,
     "input": [
      "plot(sort(data['Fare'][data.Survived == 1]))\n",
      "\n"
     ],
     "language": "python",
     "metadata": {
      "comments": {
       "": [
        null
       ]
      }
     },
     "outputs": [
      {
       "metadata": {},
       "output_type": "pyout",
       "prompt_number": 216,
       "text": [
        "[<matplotlib.lines.Line2D at 0xaca6c8cc>]"
       ]
      },
      {
       "metadata": {},
       "output_type": "display_data",
       "png": "[encoded data removed]",
       "text": [
        "<matplotlib.figure.Figure at 0xacc8ed6c>"
       ]
      }
     ],
     "prompt_number": 216
    },
    {
     "cell_type": "code",
     "collapsed": false,
     "input": [
      "?plot"
     ],
     "language": "python",
     "metadata": {},
     "outputs": [],
     "prompt_number": 210
    },
    {
     "cell_type": "heading",
     "level": 3,
     "metadata": {},
     "source": [
      "1) \u0420\u0430\u0441\u043f\u0440\u0435\u0434\u0435\u043b\u0435\u043d\u0438\u0435 \u043f\u043e\u043b\u043e\u0432 (\u043c\u0443\u0436\u0447\u0438\u043d \u043f\u043e\u0447\u0442\u0438 \u0432 2 \u0440\u0430\u0437\u0430 \u0431\u043e\u043b\u044c\u0448\u0435, \u0447\u0435\u043c \u0436\u0435\u043d\u0449\u0438\u043d)"
     ]
    },
    {
     "cell_type": "code",
     "collapsed": false,
     "input": [
      "data['Sex'].value_counts().plot(kind='barh', color=\"blue\")\n"
     ],
     "language": "python",
     "metadata": {},
     "outputs": [
      {
       "metadata": {},
       "output_type": "pyout",
       "prompt_number": 7,
       "text": [
        "<matplotlib.axes.AxesSubplot at 0x7f08001cd650>"
       ]
      },
      {
       "metadata": {},
       "output_type": "display_data",
       "png": "[encoded data removed]",
       "text": [
        "<matplotlib.figure.Figure at 0x7f08001cd190>"
       ]
      }
     ],
     "prompt_number": 7
    },
    {
     "cell_type": "heading",
     "level": 3,
     "metadata": {},
     "source": [
      "2) \u0420\u0430\u0441\u043f\u0440\u0435\u0434\u0435\u043b\u0435\u043d\u0438\u0435 \u043f\u0430\u0441\u0441\u0430\u0436\u0438\u0440\u043e\u0432 \u043f\u043e \u043a\u043b\u0430\u0441\u0441\u0430\u043c (\u0412 \u043f\u0435\u0440\u0432\u043e\u043c \u0438 \u0432\u0442\u043e\u0440\u043e\u043c \u043a\u043b\u0430\u0441\u0441\u0430\u0445 \u043f\u0440\u0438\u043c\u0435\u0440\u043d\u043e \u043e\u0434\u0438\u043d\u0430\u043a\u043e\u0432\u043e\u0435 \u0447\u0438\u0441\u043b\u043e \u043f\u0430\u0441\u0441\u0430\u0436\u0438\u0440\u043e\u0432, \u0432 \u0442\u0440\u0435\u0442\u044c\u0435\u043c \u043e\u0441\u043d\u043e\u0432\u043d\u0430\u044f \u0447\u0430\u0441\u0442\u044c \u043f\u0430\u0441\u0441\u0430\u0436\u0438\u0440\u043e\u0432)"
     ]
    },
    {
     "cell_type": "code",
     "collapsed": false,
     "input": [
      "data['Pclass'].value_counts().plot(kind='barh', color=\"blue\")"
     ],
     "language": "python",
     "metadata": {},
     "outputs": [
      {
       "metadata": {},
       "output_type": "pyout",
       "prompt_number": 8,
       "text": [
        "<matplotlib.axes.AxesSubplot at 0x7f08001801d0>"
       ]
      },
      {
       "metadata": {},
       "output_type": "display_data",
       "png": "[encoded data removed]",
       "text": [
        "<matplotlib.figure.Figure at 0x7f08001cd050>"
       ]
      }
     ],
     "prompt_number": 8
    },
    {
     "cell_type": "heading",
     "level": 3,
     "metadata": {},
     "source": [
      "3) \u0417\u0430\u0432\u0438\u0441\u0438\u043c\u043e\u0441\u0442\u044c \u0441\u0440\u0435\u0434\u043d\u0435\u0433\u043e \u0432\u043e\u0437\u0440\u0430\u0441\u0442\u0430 \u043c\u0443\u0436\u0447\u0438\u043d \u043e\u0442 \u043a\u043b\u0430\u0441\u0441\u0430 \u043e\u0431\u0441\u043b\u0443\u0436\u0438\u0432\u0430\u043d\u0438\u044f (\u043c\u043e\u043b\u043e\u0434\u044b\u0435 \u0432\u044b\u0431\u0438\u0440\u0430\u044e\u0442 \u0431\u043e\u043b\u0435\u0435 \u0434\u0435\u0448\u0435\u0432\u044b\u0439 \u043a\u043b\u0430\u0441\u0441)"
     ]
    },
    {
     "cell_type": "code",
     "collapsed": false,
     "input": [
      "data[(data['Pclass'] == 1) & (data['Sex'] == 'male') & (data['Age'])]['Age'].describe()"
     ],
     "language": "python",
     "metadata": {},
     "outputs": [
      {
       "metadata": {},
       "output_type": "pyout",
       "prompt_number": 9,
       "text": [
        "count    101.000000\n",
        "mean      41.281386\n",
        "std       15.139570\n",
        "min        0.920000\n",
        "25%       30.000000\n",
        "50%       40.000000\n",
        "75%       51.000000\n",
        "max       80.000000\n",
        "dtype: float64"
       ]
      }
     ],
     "prompt_number": 9
    },
    {
     "cell_type": "code",
     "collapsed": false,
     "input": [
      "data[(data['Pclass'] == 2) & (data['Sex'] == 'male') & (data['Age'])]['Age'].describe()"
     ],
     "language": "python",
     "metadata": {},
     "outputs": [
      {
       "metadata": {},
       "output_type": "pyout",
       "prompt_number": 43,
       "text": [
        "count    99.000000\n",
        "mean     30.740707\n",
        "std      14.793894\n",
        "min       0.670000\n",
        "25%      23.000000\n",
        "50%      30.000000\n",
        "75%      36.750000\n",
        "max      70.000000\n",
        "Name: Age, dtype: float64"
       ]
      }
     ],
     "prompt_number": 43
    },
    {
     "cell_type": "code",
     "collapsed": false,
     "input": [
      "data[(data['Pclass'] == 3) & (data['Sex'] == 'male') & (data['Age'])]['Age'].describe()"
     ],
     "language": "python",
     "metadata": {},
     "outputs": [
      {
       "metadata": {},
       "output_type": "pyout",
       "prompt_number": 42,
       "text": [
        "count    253.000000\n",
        "mean      26.507589\n",
        "std       12.159514\n",
        "min        0.420000\n",
        "25%       20.000000\n",
        "50%       25.000000\n",
        "75%       33.000000\n",
        "max       74.000000\n",
        "Name: Age, dtype: float64"
       ]
      }
     ],
     "prompt_number": 42
    },
    {
     "cell_type": "heading",
     "level": 3,
     "metadata": {},
     "source": [
      "4) \u0417\u0430\u0432\u0438\u0441\u0438\u043c\u043e\u0441\u0442\u044c \u0441\u0440\u0435\u0434\u043d\u0435\u0433\u043e \u0432\u043e\u0437\u0440\u0430\u0441\u0442\u0430 \u0436\u0435\u043d\u0449\u0438\u043d \u043e\u0442 \u043a\u043b\u0430\u0441\u0441\u0430 \u043e\u0431\u0441\u043b\u0443\u0436\u0438\u0432\u0430\u043d\u0438\u044f (\u043c\u043e\u043b\u043e\u0434\u044b\u0435 \u0432\u044b\u0431\u0438\u0440\u0430\u044e\u0442 \u0431\u043e\u043b\u0435\u0435 \u0434\u0435\u0448\u0435\u0432\u044b\u0439 \u043a\u043b\u0430\u0441\u0441)"
     ]
    },
    {
     "cell_type": "code",
     "collapsed": false,
     "input": [
      "data[(data['Pclass'] == 1) & (data['Sex'] == 'female') & (data['Age'])]['Age'].describe()"
     ],
     "language": "python",
     "metadata": {},
     "outputs": [
      {
       "metadata": {},
       "output_type": "pyout",
       "prompt_number": 44,
       "text": [
        "count    85.000000\n",
        "mean     34.611765\n",
        "std      13.612052\n",
        "min       2.000000\n",
        "25%      23.000000\n",
        "50%      35.000000\n",
        "75%      44.000000\n",
        "max      63.000000\n",
        "Name: Age, dtype: float64"
       ]
      }
     ],
     "prompt_number": 44
    },
    {
     "cell_type": "code",
     "collapsed": false,
     "input": [
      "data[(data['Pclass'] == 2) & (data['Sex'] == 'female') & (data['Age'])]['Age'].describe()"
     ],
     "language": "python",
     "metadata": {},
     "outputs": [
      {
       "metadata": {},
       "output_type": "pyout",
       "prompt_number": 45,
       "text": [
        "count    74.000000\n",
        "mean     28.722973\n",
        "std      12.872702\n",
        "min       2.000000\n",
        "25%      22.250000\n",
        "50%      28.000000\n",
        "75%      36.000000\n",
        "max      57.000000\n",
        "Name: Age, dtype: float64"
       ]
      }
     ],
     "prompt_number": 45
    },
    {
     "cell_type": "code",
     "collapsed": false,
     "input": [
      "data[(data['Pclass'] == 3) & (data['Sex'] == 'female') & (data['Age'])]['Age'].describe()"
     ],
     "language": "python",
     "metadata": {},
     "outputs": [
      {
       "metadata": {},
       "output_type": "pyout",
       "prompt_number": 46,
       "text": [
        "count    102.000000\n",
        "mean      21.750000\n",
        "std       12.729964\n",
        "min        0.750000\n",
        "25%       14.125000\n",
        "50%       21.500000\n",
        "75%       29.750000\n",
        "max       63.000000\n",
        "Name: Age, dtype: float64"
       ]
      }
     ],
     "prompt_number": 46
    },
    {
     "cell_type": "heading",
     "level": 3,
     "metadata": {},
     "source": [
      "5) \u0414\u043e\u043b\u044f \u0432\u044b\u0436\u0438\u0432\u0448\u0438\u0445 \u043f\u0430\u0441\u0441\u0430\u0436\u0438\u0440\u043e\u0432 \u043f\u0440\u0438\u043c\u0435\u0440\u043d\u043e 38%"
     ]
    },
    {
     "cell_type": "code",
     "collapsed": false,
     "input": [
      "data['Survived'].mean()"
     ],
     "language": "python",
     "metadata": {},
     "outputs": [
      {
       "metadata": {},
       "output_type": "pyout",
       "prompt_number": 50,
       "text": [
        "0.38383838383838381"
       ]
      }
     ],
     "prompt_number": 50
    },
    {
     "cell_type": "heading",
     "level": 3,
     "metadata": {},
     "source": [
      "6) \u0417\u0430\u0432\u0438\u0441\u0438\u043c\u043e\u0441\u0442\u044c \u0432\u044b\u0436\u0438\u0432\u0430\u0435\u043c\u043e\u0441\u0442\u0438 \u043e\u0442 \u0432\u043e\u0437\u0440\u0430\u0441\u0442\u0430"
     ]
    },
    {
     "cell_type": "markdown",
     "metadata": {},
     "source": [
      "\u0412\u043d\u0435 \u0437\u0430\u0432\u0438\u0441\u0438\u043c\u043e\u0441\u0442\u0438 \u043e\u0442 \u043a\u043b\u0430\u0441\u0441\u0430 \u043d\u0430\u0438\u0431\u043e\u043b\u044c\u0448\u0430\u044f \u0434\u043e\u043b\u044f \u0432\u044b\u0436\u0438\u0432\u0448\u0438\u0445 \u0443 \u043c\u043b\u0430\u0434\u0435\u043d\u0446\u0435\u0432 (\u0434\u043e 5 - 7 \u043b\u0435\u0442), \u0442\u0430\u043a\u0436\u0435 \u0432\u0438\u0434\u043d\u043e, \u0447\u0442\u043e \u0434\u043e\u043b\u044f \u0432\u044b\u0436\u0438\u0432\u0448\u0438\u0445 \u043e\u0442 30 \u0434\u043e 40 \u043b\u0435\u0442 \u043d\u0435\u043c\u043d\u043e\u0433\u043e \u0432\u044b\u0448\u0435, \u0447\u0435\u043c \u0443 \u043e\u0441\u0442\u0430\u043b\u044c\u043d\u044b\u0445 \u0432\u0437\u0440\u043e\u0441\u043b\u044b\u0445. \u0412\u043e \u0432\u0442\u043e\u0440\u043e\u043c \u0438 \u0442\u0440\u0435\u0442\u044c\u0435\u043c \u043a\u043b\u0430\u0441\u0441\u0430\u0445 \u0432\u044b\u0436\u0438\u0432\u0430\u043b\u0438 \u0432 \u043e\u0441\u043d\u043e\u0432\u043d\u043e\u043c \u043c\u043b\u0430\u0434\u0435\u043d\u0446\u044b, \u043f\u043e\u0442\u043e\u043c\u0443 \u0447\u0442\u043e \u0432 \u044d\u0442\u0438\u0445 \u043a\u043b\u0430\u0441\u0441\u0430\u0445 \u0435\u0445\u0430\u043b\u0438 \u043b\u044e\u0434\u0438 \u0441 \u0434\u0435\u0442\u044c\u043c\u0438 \u0438 \u0441\u0442\u0430\u0440\u0430\u043b\u0438\u0441\u044c \u0438\u0445 \u0441\u043f\u0430\u0441\u0442\u0438."
     ]
    },
    {
     "cell_type": "code",
     "collapsed": false,
     "input": [
      "data[\"Age\"].hist()"
     ],
     "language": "python",
     "metadata": {},
     "outputs": [
      {
       "metadata": {},
       "output_type": "pyout",
       "prompt_number": 70,
       "text": [
        "<matplotlib.axes._subplots.AxesSubplot at 0x112525250>"
       ]
      },
      {
       "metadata": {},
       "output_type": "display_data",
       "png": "[encoded data removed]",
       "text": [
        "<matplotlib.figure.Figure at 0x11252d1d0>"
       ]
      }
     ],
     "prompt_number": 70
    },
    {
     "cell_type": "code",
     "collapsed": false,
     "input": [
      "data[data[\"Survived\"] == 1][\"Age\"].hist()"
     ],
     "language": "python",
     "metadata": {},
     "outputs": [
      {
       "metadata": {},
       "output_type": "pyout",
       "prompt_number": 51,
       "text": [
        "<matplotlib.axes._subplots.AxesSubplot at 0x110eb4250>"
       ]
      },
      {
       "metadata": {},
       "output_type": "display_data",
       "png": "[encoded data removed]",
       "text": [
        "<matplotlib.figure.Figure at 0x110eb4ed0>"
       ]
      }
     ],
     "prompt_number": 51
    },
    {
     "cell_type": "code",
     "collapsed": false,
     "input": [
      "data[(data[\"Survived\"] == 1) & (data['Pclass'] == 1)][\"Age\"].hist()"
     ],
     "language": "python",
     "metadata": {},
     "outputs": [
      {
       "metadata": {},
       "output_type": "pyout",
       "prompt_number": 52,
       "text": [
        "<matplotlib.axes._subplots.AxesSubplot at 0x110a4fa90>"
       ]
      },
      {
       "metadata": {},
       "output_type": "display_data",
       "png": "[encoded data removed]",
       "text": [
        "<matplotlib.figure.Figure at 0x110ef2a10>"
       ]
      }
     ],
     "prompt_number": 52
    },
    {
     "cell_type": "code",
     "collapsed": false,
     "input": [
      "data[(data[\"Survived\"] == 1) & (data['Pclass'] == 2)][\"Age\"].hist()"
     ],
     "language": "python",
     "metadata": {},
     "outputs": [
      {
       "metadata": {},
       "output_type": "pyout",
       "prompt_number": 53,
       "text": [
        "<matplotlib.axes._subplots.AxesSubplot at 0x110fa1050>"
       ]
      },
      {
       "metadata": {},
       "output_type": "display_data",
       "png": "[encoded data removed]",
       "text": [
        "<matplotlib.figure.Figure at 0x110fa1f90>"
       ]
      }
     ],
     "prompt_number": 53
    },
    {
     "cell_type": "code",
     "collapsed": false,
     "input": [
      "data[(data[\"Survived\"] == 1) & (data['Pclass'] == 1) ][\"Age\"].hist()"
     ],
     "language": "python",
     "metadata": {},
     "outputs": [
      {
       "metadata": {},
       "output_type": "pyout",
       "prompt_number": 68,
       "text": [
        "<matplotlib.axes._subplots.AxesSubplot at 0x11225d190>"
       ]
      },
      {
       "metadata": {},
       "output_type": "display_data",
       "png": "[encoded data removed]",
       "text": [
        "<matplotlib.figure.Figure at 0x11225da10>"
       ]
      }
     ],
     "prompt_number": 68
    },
    {
     "cell_type": "code",
     "collapsed": false,
     "input": [
      "data[(data['Pclass'] == 1) ][\"Age\"].hist()"
     ],
     "language": "python",
     "metadata": {},
     "outputs": [
      {
       "metadata": {},
       "output_type": "pyout",
       "prompt_number": 73,
       "text": [
        "<matplotlib.axes._subplots.AxesSubplot at 0x11283fcd0>"
       ]
      },
      {
       "metadata": {},
       "output_type": "display_data",
       "png": "[encoded data removed]",
       "text": [
        "<matplotlib.figure.Figure at 0x112887d50>"
       ]
      }
     ],
     "prompt_number": 73
    },
    {
     "cell_type": "heading",
     "level": 3,
     "metadata": {},
     "source": [
      "7) \u0417\u0430\u0432\u0438\u0441\u0438\u043c\u043e\u0441\u0442\u044c \u043e\u0442 \u043f\u043e\u043b\u0430"
     ]
    },
    {
     "cell_type": "markdown",
     "metadata": {},
     "source": [
      "\u0427\u0430\u0449\u0435 \u0432\u044b\u0436\u0438\u0432\u0430\u043b\u0438 \u0436\u0435\u043d\u0449\u0438\u043d\u044b"
     ]
    },
    {
     "cell_type": "code",
     "collapsed": false,
     "input": [
      "data[(data[\"Sex\"] == \"male\")][\"Survived\"].value_counts()"
     ],
     "language": "python",
     "metadata": {},
     "outputs": [
      {
       "metadata": {},
       "output_type": "pyout",
       "prompt_number": 79,
       "text": [
        "0    468\n",
        "1    109\n",
        "dtype: int64"
       ]
      }
     ],
     "prompt_number": 79
    },
    {
     "cell_type": "code",
     "collapsed": false,
     "input": [
      "data[(data[\"Sex\"] == \"female\")][\"Survived\"].value_counts()"
     ],
     "language": "python",
     "metadata": {},
     "outputs": [
      {
       "metadata": {},
       "output_type": "pyout",
       "prompt_number": 80,
       "text": [
        "1    233\n",
        "0     81\n",
        "dtype: int64"
       ]
      }
     ],
     "prompt_number": 80
    },
    {
     "cell_type": "heading",
     "level": 3,
     "metadata": {},
     "source": [
      "8) \u0426\u0435\u043d\u0430 \u0431\u0438\u043b\u0435\u0442\u0430"
     ]
    },
    {
     "cell_type": "markdown",
     "metadata": {},
     "source": [
      "\u0421\u0440\u0435\u0434\u043d\u044f\u044f \u0446\u0435\u043d\u0430 \u0431\u0438\u043b\u0435\u0442\u0430 32 \u043e\u0442\u043a\u043b\u043e\u043d\u0435\u043d\u0438\u0435 50, \u0442.\u043a. \u043d\u0435\u043a\u043e\u0442\u043e\u0440\u044b\u0435 \u0431\u0438\u043b\u0435\u0442\u044b \u043d\u0430 \u043f\u0435\u0440\u0432\u044b\u0439 \u043a\u043b\u0430\u0441\u0441 \u0432\u043a\u043b\u044e\u0447\u0430\u043b\u0438 \u043d\u0435\u0441\u043a\u043e\u043b\u044c\u043a\u043e \u043a\u0430\u0431\u0438\u043d \u0438 \u0441\u0442\u043e\u0438\u043b\u0438 \u0432 \u043d\u0435\u0441\u043a\u043e\u043b\u044c\u043a\u043e \u0440\u0430\u0437 \u0431\u043e\u043b\u044c\u0448\u0435 \u0441\u0440\u0435\u0434\u043d\u0435\u0439 \u0446\u0435\u043d\u044b \u0431\u0438\u043b\u0435\u0442\u0430"
     ]
    },
    {
     "cell_type": "code",
     "collapsed": false,
     "input": [
      "data['Fare'].describe()"
     ],
     "language": "python",
     "metadata": {},
     "outputs": [
      {
       "metadata": {},
       "output_type": "pyout",
       "prompt_number": 81,
       "text": [
        "count    891.000000\n",
        "mean      32.204208\n",
        "std       49.693429\n",
        "min        0.000000\n",
        "25%        7.910400\n",
        "50%       14.454200\n",
        "75%       31.000000\n",
        "max      512.329200\n",
        "Name: Fare, dtype: float64"
       ]
      }
     ],
     "prompt_number": 81
    },
    {
     "cell_type": "heading",
     "level": 3,
     "metadata": {},
     "source": [
      "9) \u0417\u0430\u0432\u0438\u0441\u0438\u043c\u043e\u0441\u0442\u044c \u0432\u044b\u0436\u0438\u0432\u0430\u0435\u043c\u043e\u0441\u0442\u0438 \u043e\u0442 \u0446\u0435\u043d\u044b \u0431\u0438\u043b\u0435\u0442\u0430 "
     ]
    },
    {
     "cell_type": "markdown",
     "metadata": {},
     "source": [
      "\u041b\u044e\u0434\u0438, \u0437\u0430\u043f\u043b\u0430\u0442\u0438\u0432\u0448\u0438\u0435 \u0431\u043e\u043b\u044c\u0448\u0435 100, \u043f\u043e\u0447\u0442\u0438 \u0432\u0441\u0435 \u0432\u044b\u0436\u0438\u043b\u0438"
     ]
    },
    {
     "cell_type": "code",
     "collapsed": false,
     "input": [
      "data[(data['Survived'] == 1) & (data['Fare'] > 100) ]['Fare'].hist()"
     ],
     "language": "python",
     "metadata": {},
     "outputs": [
      {
       "metadata": {},
       "output_type": "pyout",
       "prompt_number": 91,
       "text": [
        "<matplotlib.axes._subplots.AxesSubplot at 0x113671510>"
       ]
      },
      {
       "metadata": {},
       "output_type": "display_data",
       "png": "[encoded data removed]",
       "text": [
        "<matplotlib.figure.Figure at 0x1136fe790>"
       ]
      }
     ],
     "prompt_number": 91
    },
    {
     "cell_type": "code",
     "collapsed": false,
     "input": [
      "data[data['Fare'] > 100]['Fare'].hist()"
     ],
     "language": "python",
     "metadata": {},
     "outputs": [
      {
       "metadata": {},
       "output_type": "pyout",
       "prompt_number": 90,
       "text": [
        "<matplotlib.axes._subplots.AxesSubplot at 0x11348c810>"
       ]
      },
      {
       "metadata": {},
       "output_type": "display_data",
       "png": "[encoded data removed]",
       "text": [
        "<matplotlib.figure.Figure at 0x11352b190>"
       ]
      }
     ],
     "prompt_number": 90
    },
    {
     "cell_type": "heading",
     "level": 3,
     "metadata": {},
     "source": [
      "10) \u0421\u0430\u043c\u043e\u0435 \u043f\u043e\u043f\u0443\u043b\u044f\u0440\u043d\u043e\u0435 \u043c\u0443\u0436\u0441\u043a\u043e\u0435 \u0438\u043c\u044f"
     ]
    },
    {
     "cell_type": "code",
     "collapsed": false,
     "input": [
      "data[data['Sex'] == 'male'].count()"
     ],
     "language": "python",
     "metadata": {},
     "outputs": [
      {
       "metadata": {},
       "output_type": "pyout",
       "prompt_number": 98,
       "text": [
        "PassengerId    577\n",
        "Survived       577\n",
        "Pclass         577\n",
        "Name           577\n",
        "Sex            577\n",
        "Age            453\n",
        "SibSp          577\n",
        "Parch          577\n",
        "Ticket         577\n",
        "Fare           577\n",
        "Cabin          107\n",
        "Embarked       577\n",
        "dtype: int64"
       ]
      }
     ],
     "prompt_number": 98
    },
    {
     "cell_type": "code",
     "collapsed": false,
     "input": [],
     "language": "python",
     "metadata": {},
     "outputs": []
    },
    {
     "cell_type": "code",
     "collapsed": false,
     "input": [],
     "language": "python",
     "metadata": {},
     "outputs": []
    }
   ],
   "metadata": {}
  }
 ]
}