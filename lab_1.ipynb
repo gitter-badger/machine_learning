{
 "cells": [
  {
   "cell_type": "markdown",
   "metadata": {
    "comments": [
     [
      null,
      "asdasd",
      "Wed Mar 11 2015 21:11:01 GMT+0300 (MSK)"
     ],
     [
      null,
      "asdasdas",
      "Wed Mar 11 2015 21:11:07 GMT+0300 (MSK)"
     ],
     [
      "vitaly",
      "asdasdaswerwe",
      "Wed Mar 11 2015 21:11:47 GMT+0300 (MSK)"
     ],
     [
      null,
      "asdasdaswerweasa",
      "Wed Mar 11 2015 21:11:53 GMT+0300 (MSK)"
     ],
     [
      null,
      "asdasdaswerweasass",
      "Wed Mar 11 2015 21:12:50 GMT+0300 (MSK)"
     ],
     [
      null,
      "asdasdaswerweasass",
      "Wed Mar 11 2015 21:13:46 GMT+0300 (MSK)"
     ],
     [
      "sss",
      "asdasdaswerweasassasdasd",
      "Wed Mar 11 2015 21:13:57 GMT+0300 (MSK)"
     ],
     [
      "sss",
      "sss",
      "Wed Mar 11 2015 21:14:05 GMT+0300 (MSK)"
     ],
     [
      "sss",
      "sss",
      "Wed Mar 11 2015 21:14:18 GMT+0300 (MSK)"
     ],
     [
      "sss",
      "ssssdfsdf",
      "Wed Mar 11 2015 21:14:22 GMT+0300 (MSK)"
     ],
     [
      "sss",
      "ssssdfsdfsdfsdf",
      "Wed Mar 11 2015 21:14:25 GMT+0300 (MSK)"
     ],
     [
      "null",
      "sdfsd",
      "Wed Mar 11 2015 21:14:53 GMT+0300 (MSK)"
     ],
     [
      "null",
      "sdfsd",
      "Wed Mar 11 2015 21:15:09 GMT+0300 (MSK)"
     ],
     [
      "null",
      "asdasd",
      "Wed Mar 11 2015 21:15:13 GMT+0300 (MSK)"
     ],
     [
      "null",
      "ass",
      "Wed Mar 11 2015 21:15:26 GMT+0300 (MSK)"
     ],
     [
      "alal",
      "ass",
      "Wed Mar 11 2015 21:16:00 GMT+0300 (MSK)"
     ],
     [
      "alal",
      "assas",
      "Wed Mar 11 2015 21:16:03 GMT+0300 (MSK)"
     ],
     [
      "alal",
      "assasxx",
      "Wed Mar 11 2015 21:16:46 GMT+0300 (MSK)"
     ],
     [
      "sdfsdf",
      "asdasd",
      "Wed Mar 11 2015 21:19:25 GMT+0300 (MSK)"
     ],
     [
      "sdfsdf",
      "asdasdff",
      "Wed Mar 11 2015 21:19:34 GMT+0300 (MSK)"
     ]
    ]
   },
   "source": [
    "# Лабораторная работа №1. \n",
    "####Емельянов Виталий, 293 гр, ФИВТ"
   ]
  },
  {
   "cell_type": "markdown",
   "metadata": {},
   "source": [
    "##Импортирование необходимых библиотек и чтение данных"
   ]
  },
  {
   "cell_type": "code",
   "execution_count": 2,
   "metadata": {
    "collapsed": false
   },
   "outputs": [
    {
     "name": "stdout",
     "output_type": "stream",
     "text": [
      "Populating the interactive namespace from numpy and matplotlib\n"
     ]
    }
   ],
   "source": [
    "import numpy as np\n",
    "import pandas\n",
    "import matplotlib\n",
    "%pylab inline\n",
    "\n",
    "train_data = pandas.read_csv(\"train.csv\")\n",
    "test_data = pandas.read_csv(\"test.csv\")\n",
    "\n",
    "data = train_data.append(test_data)"
   ]
  },
  {
   "cell_type": "markdown",
   "metadata": {},
   "source": [
    "## Число пассажиров, ехавших первым классом"
   ]
  },
  {
   "cell_type": "code",
   "execution_count": 141,
   "metadata": {
    "collapsed": false
   },
   "outputs": [
    {
     "name": "stdout",
     "output_type": "stream",
     "text": [
      "Количество человек, ехавших первым классом = 323\n"
     ]
    }
   ],
   "source": [
    "print 'Количество человек, ехавших первым классом =', data[data['Pclass'] == 1]['Pclass'].count() "
   ]
  },
  {
   "cell_type": "markdown",
   "metadata": {},
   "source": [
    "####Распределение по классам"
   ]
  },
  {
   "cell_type": "code",
   "execution_count": 142,
   "metadata": {
    "collapsed": false
   },
   "outputs": [
    {
     "data": {
      "text/plain": [
       "<matplotlib.text.Text at 0xa9d4cfac>"
      ]
     },
     "execution_count": 142,
     "metadata": {},
     "output_type": "execute_result"
    },
    {
     "data": {
      "image/png": "[encoded data removed]",
      "text/plain": [
       "<matplotlib.figure.Figure at 0xa9c261ac>"
      ]
     },
     "metadata": {},
     "output_type": "display_data"
    }
   ],
   "source": [
    "pclass_counts = data['Pclass'].value_counts()\n",
    "diagram = pclass_counts.plot(kind='bar',color='green')\n",
    "diagram.set_xlabel('Class')\n",
    "diagram.set_ylabel('Number of passengers')"
   ]
  },
  {
   "cell_type": "markdown",
   "metadata": {},
   "source": [
    "##Какой возраст имели пассажиры?"
   ]
  },
  {
   "cell_type": "code",
   "execution_count": 179,
   "metadata": {
    "collapsed": false
   },
   "outputs": [
    {
     "data": {
      "text/html": [
       "<div style=\"max-height:1000px;max-width:1500px;overflow:auto;\">\n",
       "<table border=\"1\" class=\"dataframe\">\n",
       "  <thead>\n",
       "    <tr style=\"text-align: right;\">\n",
       "      <th></th>\n",
       "      <th>Age</th>\n",
       "    </tr>\n",
       "  </thead>\n",
       "  <tbody>\n",
       "    <tr>\n",
       "      <th>count</th>\n",
       "      <td> 1046.000000</td>\n",
       "    </tr>\n",
       "    <tr>\n",
       "      <th>mean</th>\n",
       "      <td>   29.881138</td>\n",
       "    </tr>\n",
       "    <tr>\n",
       "      <th>std</th>\n",
       "      <td>   14.413493</td>\n",
       "    </tr>\n",
       "    <tr>\n",
       "      <th>min</th>\n",
       "      <td>    0.170000</td>\n",
       "    </tr>\n",
       "    <tr>\n",
       "      <th>25%</th>\n",
       "      <td>   21.000000</td>\n",
       "    </tr>\n",
       "    <tr>\n",
       "      <th>50%</th>\n",
       "      <td>   28.000000</td>\n",
       "    </tr>\n",
       "    <tr>\n",
       "      <th>75%</th>\n",
       "      <td>   39.000000</td>\n",
       "    </tr>\n",
       "    <tr>\n",
       "      <th>max</th>\n",
       "      <td>   80.000000</td>\n",
       "    </tr>\n",
       "  </tbody>\n",
       "</table>\n",
       "<p>8 rows × 1 columns</p>\n",
       "</div>"
      ],
      "text/plain": [
       "               Age\n",
       "count  1046.000000\n",
       "mean     29.881138\n",
       "std      14.413493\n",
       "min       0.170000\n",
       "25%      21.000000\n",
       "50%      28.000000\n",
       "75%      39.000000\n",
       "max      80.000000\n",
       "\n",
       "[8 rows x 1 columns]"
      ]
     },
     "execution_count": 179,
     "metadata": {},
     "output_type": "execute_result"
    }
   ],
   "source": [
    "pandas.DataFrame(data['Age'].describe())\n"
   ]
  },
  {
   "cell_type": "markdown",
   "metadata": {},
   "source": [
    "<p>Видно, что самому \"молодому\" человеку на корабле было около 2-х месяцев, самому старому - 80 лет.<br>\n",
    "Средний возраст пассажиров на корабле составлял около 30 лет.\n",
    "</p>\n"
   ]
  },
  {
   "cell_type": "code",
   "execution_count": 138,
   "metadata": {
    "collapsed": false,
    "comments": {
     "": [
      null
     ]
    },
    "scrolled": true
   },
   "outputs": [
    {
     "data": {
      "text/plain": [
       "<matplotlib.text.Text at 0xa9e5854c>"
      ]
     },
     "execution_count": 138,
     "metadata": {},
     "output_type": "execute_result"
    },
    {
     "data": {
      "image/png": "[encoded data removed]",
      "text/plain": [
       "<matplotlib.figure.Figure at 0xa9d395ec>"
      ]
     },
     "metadata": {},
     "output_type": "display_data"
    }
   ],
   "source": [
    "age_histogram = data['Age'].hist(bins = max(data['Age']), color='green')\n",
    "age_histogram.set_xlabel('Age')\n",
    "age_histogram.set_ylabel('Number of passengers')"
   ]
  },
  {
   "cell_type": "markdown",
   "metadata": {},
   "source": [
    "##Коррелируют ли число братьев/сестер с числом родителей/детей?"
   ]
  },
  {
   "cell_type": "code",
   "execution_count": 189,
   "metadata": {
    "collapsed": false
   },
   "outputs": [
    {
     "data": {
      "text/html": [
       "<div style=\"max-height:1000px;max-width:1500px;overflow:auto;\">\n",
       "<table border=\"1\" class=\"dataframe\">\n",
       "  <thead>\n",
       "    <tr style=\"text-align: right;\">\n",
       "      <th></th>\n",
       "      <th>0</th>\n",
       "      <th>1</th>\n",
       "    </tr>\n",
       "  </thead>\n",
       "  <tbody>\n",
       "    <tr>\n",
       "      <th>0</th>\n",
       "      <td> 1.000000</td>\n",
       "      <td> 0.373587</td>\n",
       "    </tr>\n",
       "    <tr>\n",
       "      <th>1</th>\n",
       "      <td> 0.373587</td>\n",
       "      <td> 1.000000</td>\n",
       "    </tr>\n",
       "  </tbody>\n",
       "</table>\n",
       "<p>2 rows × 2 columns</p>\n",
       "</div>"
      ],
      "text/plain": [
       "          0         1\n",
       "0  1.000000  0.373587\n",
       "1  0.373587  1.000000\n",
       "\n",
       "[2 rows x 2 columns]"
      ]
     },
     "execution_count": 189,
     "metadata": {},
     "output_type": "execute_result"
    }
   ],
   "source": [
    "frame = pandas.DataFrame()\n",
    "frame['0'] = data.Parch\n",
    "frame['1'] = data.SibSp\n",
    "\n",
    "frame.corr()"
   ]
  },
  {
   "cell_type": "markdown",
   "metadata": {
    "comments": [
     1,
     2,
     3
    ]
   },
   "source": [
    "##Самое популярное женское имя на корабле"
   ]
  },
  {
   "cell_type": "code",
   "execution_count": 34,
   "metadata": {
    "collapsed": false
   },
   "outputs": [
    {
     "data": {
      "text/plain": [
       "<matplotlib.text.Text at 0xadd0136c>"
      ]
     },
     "execution_count": 34,
     "metadata": {},
     "output_type": "execute_result"
    },
    {
     "data": {
      "image/png": "[encoded data removed]",
      "text/plain": [
       "<matplotlib.figure.Figure at 0xaddc176c>"
      ]
     },
     "metadata": {},
     "output_type": "display_data"
    }
   ],
   "source": [
    "full_names = data['Name'][data.Sex == 'female']\n",
    "\n",
    "names = []\n",
    "\n",
    "for full_name in  full_names:\n",
    "    items = full_name.split(' ')\n",
    "    \n",
    "    for i in xrange(len(items)):\n",
    "        for symbol in items[i]:\n",
    "            if symbol == '.':\n",
    "                names.append(items[i+1])\n",
    "\n",
    "s = pandas.Series(names)\n",
    "diagram = s.value_counts().plot('line')\n",
    "\n",
    "diagram.set_xlabel('Names')\n",
    "diagram.set_ylabel('Count')"
   ]
  },
  {
   "cell_type": "markdown",
   "metadata": {},
   "source": [
    "Если считать, что имя женщины идет после ее титула, то самое популярное женское имя на корабле William"
   ]
  },
  {
   "cell_type": "markdown",
   "metadata": {},
   "source": [
    "##Как варьируется цена билета на Титаник?"
   ]
  },
  {
   "cell_type": "code",
   "execution_count": 3,
   "metadata": {
    "collapsed": false
   },
   "outputs": [
    {
     "data": {
      "text/html": [
       "<div style=\"max-height:1000px;max-width:1500px;overflow:auto;\">\n",
       "<table border=\"1\" class=\"dataframe\">\n",
       "  <thead>\n",
       "    <tr style=\"text-align: right;\">\n",
       "      <th></th>\n",
       "      <th>Fare</th>\n",
       "    </tr>\n",
       "  </thead>\n",
       "  <tbody>\n",
       "    <tr>\n",
       "      <th>count</th>\n",
       "      <td> 1308.000000</td>\n",
       "    </tr>\n",
       "    <tr>\n",
       "      <th>mean</th>\n",
       "      <td>   33.295479</td>\n",
       "    </tr>\n",
       "    <tr>\n",
       "      <th>std</th>\n",
       "      <td>   51.758668</td>\n",
       "    </tr>\n",
       "    <tr>\n",
       "      <th>min</th>\n",
       "      <td>    0.000000</td>\n",
       "    </tr>\n",
       "    <tr>\n",
       "      <th>25%</th>\n",
       "      <td>    7.895800</td>\n",
       "    </tr>\n",
       "    <tr>\n",
       "      <th>50%</th>\n",
       "      <td>   14.454200</td>\n",
       "    </tr>\n",
       "    <tr>\n",
       "      <th>75%</th>\n",
       "      <td>   31.275000</td>\n",
       "    </tr>\n",
       "    <tr>\n",
       "      <th>max</th>\n",
       "      <td>  512.329200</td>\n",
       "    </tr>\n",
       "  </tbody>\n",
       "</table>\n",
       "<p>8 rows × 1 columns</p>\n",
       "</div>"
      ],
      "text/plain": [
       "              Fare\n",
       "count  1308.000000\n",
       "mean     33.295479\n",
       "std      51.758668\n",
       "min       0.000000\n",
       "25%       7.895800\n",
       "50%      14.454200\n",
       "75%      31.275000\n",
       "max     512.329200\n",
       "\n",
       "[8 rows x 1 columns]"
      ]
     },
     "execution_count": 3,
     "metadata": {},
     "output_type": "execute_result"
    }
   ],
   "source": [
    "pandas.DataFrame(data.Fare.describe())"
   ]
  },
  {
   "cell_type": "markdown",
   "metadata": {},
   "source": [
    "Максимальная цена на билет составляла около 512, минимальная - 0, видимо, для моряков.<br>\n",
    "Средняя цена - около 33"
   ]
  },
  {
   "cell_type": "markdown",
   "metadata": {},
   "source": [
    "##Какие титулы имели пассажиры, едущие различными классами?"
   ]
  },
  {
   "cell_type": "code",
   "execution_count": 161,
   "metadata": {
    "collapsed": false,
    "comments": {
     "": [
      null
     ]
    }
   },
   "outputs": [
    {
     "data": {
      "text/html": [
       "<div style=\"max-height:1000px;max-width:1500px;overflow:auto;\">\n",
       "<table border=\"1\" class=\"dataframe\">\n",
       "  <thead>\n",
       "    <tr style=\"text-align: right;\">\n",
       "      <th></th>\n",
       "      <th>class 1</th>\n",
       "      <th>class 2</th>\n",
       "      <th>class 3</th>\n",
       "    </tr>\n",
       "  </thead>\n",
       "  <tbody>\n",
       "    <tr>\n",
       "      <th>0 </th>\n",
       "      <td>     Miss.</td>\n",
       "      <td>   Miss.</td>\n",
       "      <td>     Ms.</td>\n",
       "    </tr>\n",
       "    <tr>\n",
       "      <th>1 </th>\n",
       "      <td>      Mme.</td>\n",
       "      <td>    Rev.</td>\n",
       "      <td>     Mr.</td>\n",
       "    </tr>\n",
       "    <tr>\n",
       "      <th>2 </th>\n",
       "      <td> Countess.</td>\n",
       "      <td>    Mrs.</td>\n",
       "      <td>   Miss.</td>\n",
       "    </tr>\n",
       "    <tr>\n",
       "      <th>3 </th>\n",
       "      <td>        L.</td>\n",
       "      <td>     Ms.</td>\n",
       "      <td>    Mrs.</td>\n",
       "    </tr>\n",
       "    <tr>\n",
       "      <th>4 </th>\n",
       "      <td>     Dona.</td>\n",
       "      <td>     Mr.</td>\n",
       "      <td> Master.</td>\n",
       "    </tr>\n",
       "    <tr>\n",
       "      <th>5 </th>\n",
       "      <td> Jonkheer.</td>\n",
       "      <td>     Dr.</td>\n",
       "      <td>        </td>\n",
       "    </tr>\n",
       "    <tr>\n",
       "      <th>6 </th>\n",
       "      <td>      Sir.</td>\n",
       "      <td> Master.</td>\n",
       "      <td>        </td>\n",
       "    </tr>\n",
       "    <tr>\n",
       "      <th>7 </th>\n",
       "      <td>     Mlle.</td>\n",
       "      <td>        </td>\n",
       "      <td>        </td>\n",
       "    </tr>\n",
       "    <tr>\n",
       "      <th>8 </th>\n",
       "      <td>      Mrs.</td>\n",
       "      <td>        </td>\n",
       "      <td>        </td>\n",
       "    </tr>\n",
       "    <tr>\n",
       "      <th>9 </th>\n",
       "      <td>     Capt.</td>\n",
       "      <td>        </td>\n",
       "      <td>        </td>\n",
       "    </tr>\n",
       "    <tr>\n",
       "      <th>10</th>\n",
       "      <td>      Col.</td>\n",
       "      <td>        </td>\n",
       "      <td>        </td>\n",
       "    </tr>\n",
       "    <tr>\n",
       "      <th>11</th>\n",
       "      <td>       Mr.</td>\n",
       "      <td>        </td>\n",
       "      <td>        </td>\n",
       "    </tr>\n",
       "    <tr>\n",
       "      <th>12</th>\n",
       "      <td>     Lady.</td>\n",
       "      <td>        </td>\n",
       "      <td>        </td>\n",
       "    </tr>\n",
       "    <tr>\n",
       "      <th>13</th>\n",
       "      <td>       Dr.</td>\n",
       "      <td>        </td>\n",
       "      <td>        </td>\n",
       "    </tr>\n",
       "    <tr>\n",
       "      <th>14</th>\n",
       "      <td>      Don.</td>\n",
       "      <td>        </td>\n",
       "      <td>        </td>\n",
       "    </tr>\n",
       "    <tr>\n",
       "      <th>15</th>\n",
       "      <td>    Major.</td>\n",
       "      <td>        </td>\n",
       "      <td>        </td>\n",
       "    </tr>\n",
       "    <tr>\n",
       "      <th>16</th>\n",
       "      <td>   Master.</td>\n",
       "      <td>        </td>\n",
       "      <td>        </td>\n",
       "    </tr>\n",
       "  </tbody>\n",
       "</table>\n",
       "<p>17 rows × 3 columns</p>\n",
       "</div>"
      ],
      "text/plain": [
       "      class 1  class 2  class 3\n",
       "0       Miss.    Miss.      Ms.\n",
       "1        Mme.     Rev.      Mr.\n",
       "2   Countess.     Mrs.    Miss.\n",
       "3          L.      Ms.     Mrs.\n",
       "4       Dona.      Mr.  Master.\n",
       "5   Jonkheer.      Dr.         \n",
       "6        Sir.  Master.         \n",
       "7       Mlle.                  \n",
       "8        Mrs.                  \n",
       "9       Capt.                  \n",
       "10       Col.                  \n",
       "11        Mr.                  \n",
       "12      Lady.                  \n",
       "13        Dr.                  \n",
       "14       Don.                  \n",
       "15     Major.                  \n",
       "16    Master.                  \n",
       "\n",
       "[17 rows x 3 columns]"
      ]
     },
     "execution_count": 161,
     "metadata": {},
     "output_type": "execute_result"
    }
   ],
   "source": [
    "frame = pandas.DataFrame()\n",
    "for pclass in range(1,4):\n",
    "    \n",
    "    title_counts = set()\n",
    "    \n",
    "    passengers = data['Name'][data['Pclass'] == pclass]\n",
    "    \n",
    "    for passenger in passengers:\n",
    "        items = passenger.split()\n",
    "        \n",
    "        for item in items:\n",
    "            if item[-1] == '.':\n",
    "                title_counts.add(item)\n",
    "                \n",
    "    frame['class ' + str(pclass)] = pandas.Series(list(title_counts))\n",
    "\n",
    "frame\n",
    "frame.fillna('')\n",
    "    \n",
    "    "
   ]
  },
  {
   "cell_type": "markdown",
   "metadata": {},
   "source": [
    "Закономерно, что количество различных титулов тем больше, чем выше класс."
   ]
  },
  {
   "cell_type": "markdown",
   "metadata": {},
   "source": [
    "## Есть ли зависимость между классом и номером билета?"
   ]
  },
  {
   "cell_type": "code",
   "execution_count": 5,
   "metadata": {
    "collapsed": false
   },
   "outputs": [
    {
     "data": {
      "text/plain": [
       "0.26203792163438056"
      ]
     },
     "execution_count": 5,
     "metadata": {},
     "output_type": "execute_result"
    }
   ],
   "source": [
    "frame = pandas.DataFrame()\n",
    "\n",
    "frame['pclass'] = data.Pclass\n",
    "frame['ticket'] = data.Ticket\n",
    "\n",
    "counter = 0\n",
    "match = []\n",
    "\n",
    "for pclass in list(frame['pclass']):\n",
    "    for ticket in list(frame['ticket']):\n",
    "        if str(pclass) == ticket[0]:\n",
    "            match.append(1)\n",
    "        else:\n",
    "            match.append(0)\n",
    "\n",
    "pandas.Series(match).mean()"
   ]
  },
  {
   "cell_type": "markdown",
   "metadata": {},
   "source": [
    "У меня изначально было предположение, что номер класса почти всегда соответствует первой цифре номера билета.<br>\n",
    "Но, как видно, это опровергается тем, что частота таких совпадений всего 26%<br>\n",
    "Глядя на остальные цифры билета, никакой очевидной закономерности не обнаруживается."
   ]
  },
  {
   "cell_type": "markdown",
   "metadata": {},
   "source": [
    "##Какой части пассажиров удалось выжить?"
   ]
  },
  {
   "cell_type": "code",
   "execution_count": 146,
   "metadata": {
    "collapsed": false
   },
   "outputs": [
    {
     "name": "stdout",
     "output_type": "stream",
     "text": [
      "0.383838383838\n"
     ]
    }
   ],
   "source": [
    "print data['Survived'].mean()"
   ]
  },
  {
   "cell_type": "markdown",
   "metadata": {},
   "source": [
    "Получается, что выжило около 38% пассажиров"
   ]
  },
  {
   "cell_type": "markdown",
   "metadata": {},
   "source": [
    "##Верно ли, что женщины выживали чаще мужчин?"
   ]
  },
  {
   "cell_type": "code",
   "execution_count": 170,
   "metadata": {
    "collapsed": false
   },
   "outputs": [
    {
     "data": {
      "text/plain": [
       "<matplotlib.text.Text at 0xa7ede72c>"
      ]
     },
     "execution_count": 170,
     "metadata": {},
     "output_type": "execute_result"
    },
    {
     "data": {
      "image/png": "[encoded data removed]",
      "text/plain": [
       "<matplotlib.figure.Figure at 0xa7fee62c>"
      ]
     },
     "metadata": {},
     "output_type": "display_data"
    }
   ],
   "source": [
    "diagram = pandas.crosstab([data['Sex']], data['Survived'].astype(bool)).plot(kind='bar', stacked=True, color=['black', 'green'])\n",
    "diagram.set_xlabel('Sex')\n",
    "diagram.set_ylabel('Number of people')"
   ]
  },
  {
   "cell_type": "code",
   "execution_count": 154,
   "metadata": {
    "collapsed": false
   },
   "outputs": [
    {
     "data": {
      "text/plain": [
       "0.7420382165605095"
      ]
     },
     "execution_count": 154,
     "metadata": {},
     "output_type": "execute_result"
    }
   ],
   "source": [
    "data[\"Survived\"][data.Sex == \"female\"].mean()"
   ]
  },
  {
   "cell_type": "code",
   "execution_count": 155,
   "metadata": {
    "collapsed": false
   },
   "outputs": [
    {
     "data": {
      "text/plain": [
       "0.18890814558058924"
      ]
     },
     "execution_count": 155,
     "metadata": {},
     "output_type": "execute_result"
    }
   ],
   "source": [
    "data[\"Survived\"][data.Sex == \"male\"].mean()"
   ]
  },
  {
   "cell_type": "markdown",
   "metadata": {},
   "source": [
    "~74% выживших женщин, против ~19% выживших мужчин.<br>\n",
    "Отсюда можно сделать вывод, что женщины выживали чаще мужчин."
   ]
  },
  {
   "cell_type": "markdown",
   "metadata": {},
   "source": [
    "##Верно ли, что чаще выживали пассажиры с более дорогими билетами?"
   ]
  },
  {
   "cell_type": "code",
   "execution_count": 30,
   "metadata": {
    "collapsed": false,
    "comments": {
     "": [
      null
     ]
    }
   },
   "outputs": [
    {
     "data": {
      "text/plain": [
       "0.73584905660377353"
      ]
     },
     "execution_count": 30,
     "metadata": {},
     "output_type": "execute_result"
    }
   ],
   "source": [
    "data[data['Fare'] > 100]['Survived'].mean()"
   ]
  },
  {
   "cell_type": "code",
   "execution_count": 31,
   "metadata": {
    "collapsed": false
   },
   "outputs": [
    {
     "data": {
      "text/plain": [
       "0.31818181818181818"
      ]
     },
     "execution_count": 31,
     "metadata": {},
     "output_type": "execute_result"
    }
   ],
   "source": [
    "data[data['Fare'] < 33]['Survived'].mean()"
   ]
  },
  {
   "cell_type": "markdown",
   "metadata": {},
   "source": [
    "Видно, что пассажиры с более дорогими билетами выживали чаще, чем пассажиры с более дешевыми."
   ]
  },
  {
   "cell_type": "markdown",
   "metadata": {
    "collapsed": false
   },
   "source": [
    "##Закономерности, точно описывающие группу выживших пассажиров"
   ]
  },
  {
   "cell_type": "markdown",
   "metadata": {},
   "source": [
    "В надежде обнаружить какие-то новые закономерности построим признак-признак диаграммы.<br>\n",
    "Может быть, где-то можно будет визуально отделить выживших от невыживших."
   ]
  },
  {
   "cell_type": "code",
   "execution_count": 28,
   "metadata": {
    "collapsed": false,
    "comments": {
     "": [
      null
     ]
    }
   },
   "outputs": [
    {
     "data": {
      "image/png": "[encoded data removed]",
      "text/plain": [
       "<matplotlib.figure.Figure at 0xb4be2cec>"
      ]
     },
     "metadata": {},
     "output_type": "display_data"
    },
    {
     "data": {
      "image/png": "[encoded data removed]",
      "text/plain": [
       "<matplotlib.figure.Figure at 0xadd6462c>"
      ]
     },
     "metadata": {},
     "output_type": "display_data"
    }
   ],
   "source": [
    "fare = pandas.DataFrame(data['Fare'])\n",
    "age = pandas.DataFrame(data['Age'])\n",
    "pclass = pandas.DataFrame(data['Pclass'])\n",
    "peoples = pandas.DataFrame(data['Sex'])\n",
    "\n",
    "data.plot(kind='scatter', x='Fare', y='Age');\n",
    "\n",
    "data.plot(kind='scatter', x='Fare', y='Pclass');"
   ]
  },
  {
   "cell_type": "markdown",
   "metadata": {},
   "source": [
    "Посмотрев на диаграммы, новых закономерностей я не обнаружил."
   ]
  },
  {
   "cell_type": "markdown",
   "metadata": {},
   "source": [
    "###Вывод"
   ]
  },
  {
   "cell_type": "markdown",
   "metadata": {
    "collapsed": true
   },
   "source": [
    "Из утверждений выше можно понять, что критерием выживаемости на Титанике было:\n",
    "<ul>\n",
    "<li><b>пол:</b> женщины выживали чаще мужчин</li>\n",
    "<li><b>цена билета:</b> обладатели более дорогих билетов выживали чаще</li>\n",
    "</ul>\n",
    "\n",
    "Каких-то других параметров выживаемости я не обнаружил."
   ]
  }
 ],
 "metadata": {
  "kernelspec": {
   "display_name": "Python 2",
   "language": "python",
   "name": "python2"
  },
  "language_info": {
   "codemirror_mode": {
    "name": "ipython",
    "version": 2
   },
   "file_extension": ".py",
   "mimetype": "text/x-python",
   "name": "python",
   "nbconvert_exporter": "python",
   "pygments_lexer": "ipython2",
   "version": "2.7.6"
  },
  "users": [
   "vitaly",
   null,
   "sss",
   "null",
   "alal",
   "sdfsdf"
  ]
 },
 "nbformat": 4,
 "nbformat_minor": 0
}
