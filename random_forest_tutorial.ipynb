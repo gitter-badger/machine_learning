{
 "cells": [
  {
   "cell_type": "markdown",
   "metadata": {},
   "source": [
    "# Random Forest Tutorial"
   ]
  },
  {
   "cell_type": "markdown",
   "metadata": {},
   "source": [
    "Загрузим датасет http://archive.ics.uci.edu/ml/datasets/BlogFeedback"
   ]
  },
  {
   "cell_type": "markdown",
   "metadata": {},
   "source": [
    "## Считывание и подготовка данных"
   ]
  },
  {
   "cell_type": "code",
   "execution_count": 6,
   "metadata": {
    "collapsed": false,
    "scrolled": true
   },
   "outputs": [
    {
     "name": "stdout",
     "output_type": "stream",
     "text": [
      "Data size: (52397, 281)\n"
     ]
    },
    {
     "data": {
      "text/html": [
       "<div style=\"max-height:1000px;max-width:1500px;overflow:auto;\">\n",
       "<table border=\"1\" class=\"dataframe\">\n",
       "  <thead>\n",
       "    <tr style=\"text-align: right;\">\n",
       "      <th></th>\n",
       "      <th>0</th>\n",
       "      <th>1</th>\n",
       "      <th>2</th>\n",
       "      <th>3</th>\n",
       "      <th>4</th>\n",
       "      <th>5</th>\n",
       "      <th>6</th>\n",
       "      <th>7</th>\n",
       "      <th>8</th>\n",
       "      <th>9</th>\n",
       "      <th>10</th>\n",
       "      <th>11</th>\n",
       "      <th>12</th>\n",
       "      <th>13</th>\n",
       "      <th>14</th>\n",
       "      <th>15</th>\n",
       "      <th>16</th>\n",
       "    </tr>\n",
       "  </thead>\n",
       "  <tbody>\n",
       "    <tr>\n",
       "      <th>0</th>\n",
       "      <td> 40.30467</td>\n",
       "      <td> 53.845657</td>\n",
       "      <td> 0</td>\n",
       "      <td> 401</td>\n",
       "      <td> 15</td>\n",
       "      <td> 15.52416</td>\n",
       "      <td> 32.44188</td>\n",
       "      <td> 0</td>\n",
       "      <td> 377</td>\n",
       "      <td> 3</td>\n",
       "      <td> 14.044226</td>\n",
       "      <td> 32.615417</td>\n",
       "      <td> 0</td>\n",
       "      <td> 377</td>\n",
       "      <td> 2</td>\n",
       "      <td> 34.567566</td>\n",
       "      <td> 48.475178</td>\n",
       "    </tr>\n",
       "    <tr>\n",
       "      <th>1</th>\n",
       "      <td> 40.30467</td>\n",
       "      <td> 53.845657</td>\n",
       "      <td> 0</td>\n",
       "      <td> 401</td>\n",
       "      <td> 15</td>\n",
       "      <td> 15.52416</td>\n",
       "      <td> 32.44188</td>\n",
       "      <td> 0</td>\n",
       "      <td> 377</td>\n",
       "      <td> 3</td>\n",
       "      <td> 14.044226</td>\n",
       "      <td> 32.615417</td>\n",
       "      <td> 0</td>\n",
       "      <td> 377</td>\n",
       "      <td> 2</td>\n",
       "      <td> 34.567566</td>\n",
       "      <td> 48.475178</td>\n",
       "    </tr>\n",
       "    <tr>\n",
       "      <th>2</th>\n",
       "      <td> 40.30467</td>\n",
       "      <td> 53.845657</td>\n",
       "      <td> 0</td>\n",
       "      <td> 401</td>\n",
       "      <td> 15</td>\n",
       "      <td> 15.52416</td>\n",
       "      <td> 32.44188</td>\n",
       "      <td> 0</td>\n",
       "      <td> 377</td>\n",
       "      <td> 3</td>\n",
       "      <td> 14.044226</td>\n",
       "      <td> 32.615417</td>\n",
       "      <td> 0</td>\n",
       "      <td> 377</td>\n",
       "      <td> 2</td>\n",
       "      <td> 34.567566</td>\n",
       "      <td> 48.475178</td>\n",
       "    </tr>\n",
       "    <tr>\n",
       "      <th>3</th>\n",
       "      <td> 40.30467</td>\n",
       "      <td> 53.845657</td>\n",
       "      <td> 0</td>\n",
       "      <td> 401</td>\n",
       "      <td> 15</td>\n",
       "      <td> 15.52416</td>\n",
       "      <td> 32.44188</td>\n",
       "      <td> 0</td>\n",
       "      <td> 377</td>\n",
       "      <td> 3</td>\n",
       "      <td> 14.044226</td>\n",
       "      <td> 32.615417</td>\n",
       "      <td> 0</td>\n",
       "      <td> 377</td>\n",
       "      <td> 2</td>\n",
       "      <td> 34.567566</td>\n",
       "      <td> 48.475178</td>\n",
       "    </tr>\n",
       "    <tr>\n",
       "      <th>4</th>\n",
       "      <td> 40.30467</td>\n",
       "      <td> 53.845657</td>\n",
       "      <td> 0</td>\n",
       "      <td> 401</td>\n",
       "      <td> 15</td>\n",
       "      <td> 15.52416</td>\n",
       "      <td> 32.44188</td>\n",
       "      <td> 0</td>\n",
       "      <td> 377</td>\n",
       "      <td> 3</td>\n",
       "      <td> 14.044226</td>\n",
       "      <td> 32.615417</td>\n",
       "      <td> 0</td>\n",
       "      <td> 377</td>\n",
       "      <td> 2</td>\n",
       "      <td> 34.567566</td>\n",
       "      <td> 48.475178</td>\n",
       "    </tr>\n",
       "  </tbody>\n",
       "</table>\n",
       "<p>5 rows × 17 columns</p>\n",
       "</div>"
      ],
      "text/plain": [
       "         0          1   2    3   4         5         6   7    8   9   \\\n",
       "0  40.30467  53.845657   0  401  15  15.52416  32.44188   0  377   3   \n",
       "1  40.30467  53.845657   0  401  15  15.52416  32.44188   0  377   3   \n",
       "2  40.30467  53.845657   0  401  15  15.52416  32.44188   0  377   3   \n",
       "3  40.30467  53.845657   0  401  15  15.52416  32.44188   0  377   3   \n",
       "4  40.30467  53.845657   0  401  15  15.52416  32.44188   0  377   3   \n",
       "\n",
       "          10         11  12   13  14         15         16  \n",
       "0  14.044226  32.615417   0  377   2  34.567566  48.475178  \n",
       "1  14.044226  32.615417   0  377   2  34.567566  48.475178  \n",
       "2  14.044226  32.615417   0  377   2  34.567566  48.475178  \n",
       "3  14.044226  32.615417   0  377   2  34.567566  48.475178  \n",
       "4  14.044226  32.615417   0  377   2  34.567566  48.475178  \n",
       "\n",
       "[5 rows x 17 columns]"
      ]
     },
     "execution_count": 6,
     "metadata": {},
     "output_type": "execute_result"
    }
   ],
   "source": [
    "import pandas\n",
    "train = pandas.read_csv('blogData_train.csv', header=None)\n",
    "print 'Data size:', train.shape\n",
    "train.ix[:, :16].head()"
   ]
  },
  {
   "cell_type": "code",
   "execution_count": 9,
   "metadata": {
    "collapsed": false
   },
   "outputs": [
    {
     "name": "stdout",
     "output_type": "stream",
     "text": [
      "(52397, 280)\n",
      "(52397,)\n"
     ]
    }
   ],
   "source": [
    "y = train.ix[:, train.shape[1]-1].values\n",
    "X = train.ix[:, 0:train.shape[1]-2].values\n",
    "print X.shape\n",
    "print y.shape"
   ]
  },
  {
   "cell_type": "code",
   "execution_count": 10,
   "metadata": {
    "collapsed": false
   },
   "outputs": [],
   "source": [
    "from sklearn import cross_validation\n",
    "X_train, X_test, y_train, y_test = cross_validation.train_test_split(X, y, test_size=0.9, random_state=1543)"
   ]
  },
  {
   "cell_type": "markdown",
   "metadata": {},
   "source": [
    "## Сходимость моделей"
   ]
  },
  {
   "cell_type": "code",
   "execution_count": 11,
   "metadata": {
    "collapsed": false
   },
   "outputs": [],
   "source": [
    "from sklearn.metrics import mean_squared_error as mse\n",
    "\n",
    "def get_mse_list(X, y, clf):\n",
    "    predictions = list()\n",
    "    mses = list()\n",
    "    for i, tree in enumerate(clf.estimators_):\n",
    "        predictions.append(tree.predict(X))\n",
    "        rf_prediction = mean(predictions, axis=0)\n",
    "        mses.append(mse(y, rf_prediction))\n",
    "    print 'Last score', mses[-1]\n",
    "    return mses"
   ]
  },
  {
   "cell_type": "code",
   "execution_count": 12,
   "metadata": {
    "collapsed": false
   },
   "outputs": [],
   "source": [
    "def plot_mse_graph(clf, X_train, X_test, y_train, y_test, prefix, print_train=True):\n",
    "    clf.fit(X_train, y_train)\n",
    "    train_mses = get_mse_list(X_train, y_train, clf)\n",
    "    test_mses = get_mse_list(X_test, y_test, clf)\n",
    "    if print_train:\n",
    "        plot(train_mses, label=prefix + ' train set error')\n",
    "    plot(test_mses, label=prefix + ' test set error')\n",
    "    xlabel('n_estimators')\n",
    "    ylabel('MSE')\n",
    "    legend()"
   ]
  },
  {
   "cell_type": "code",
   "execution_count": 14,
   "metadata": {
    "collapsed": false
   },
   "outputs": [
    {
     "ename": "NameError",
     "evalue": "global name 'mean' is not defined",
     "output_type": "error",
     "traceback": [
      "\u001b[1;31m---------------------------------------------------------------------------\u001b[0m",
      "\u001b[1;31mNameError\u001b[0m                                 Traceback (most recent call last)",
      "\u001b[1;32m<ipython-input-14-bf2490b45bfa>\u001b[0m in \u001b[0;36m<module>\u001b[1;34m()\u001b[0m\n\u001b[1;32m----> 1\u001b[1;33m \u001b[0mget_ipython\u001b[0m\u001b[1;33m(\u001b[0m\u001b[1;33m)\u001b[0m\u001b[1;33m.\u001b[0m\u001b[0mrun_cell_magic\u001b[0m\u001b[1;33m(\u001b[0m\u001b[1;34mu'time'\u001b[0m\u001b[1;33m,\u001b[0m \u001b[1;34mu''\u001b[0m\u001b[1;33m,\u001b[0m \u001b[1;34mu\"n_estimators = 50\\nfrom sklearn.ensemble import RandomForestRegressor\\nplot_mse_graph(RandomForestRegressor(n_estimators=n_estimators, n_jobs=3),\\n               X_train, X_test, y_train, y_test,\\n               prefix='RF')\\nplot_mse_graph(ExtraTreesRegressor(n_estimators=n_estimators, n_jobs=3, bootstrap=True),\\n               X_train, X_test, y_train, y_test,\\n               prefix='ET')\"\u001b[0m\u001b[1;33m)\u001b[0m\u001b[1;33m\u001b[0m\u001b[0m\n\u001b[0m",
      "\u001b[1;32m/usr/local/lib/python2.7/dist-packages/IPython/core/interactiveshell.pyc\u001b[0m in \u001b[0;36mrun_cell_magic\u001b[1;34m(self, magic_name, line, cell)\u001b[0m\n\u001b[0;32m   2259\u001b[0m             \u001b[0mmagic_arg_s\u001b[0m \u001b[1;33m=\u001b[0m \u001b[0mself\u001b[0m\u001b[1;33m.\u001b[0m\u001b[0mvar_expand\u001b[0m\u001b[1;33m(\u001b[0m\u001b[0mline\u001b[0m\u001b[1;33m,\u001b[0m \u001b[0mstack_depth\u001b[0m\u001b[1;33m)\u001b[0m\u001b[1;33m\u001b[0m\u001b[0m\n\u001b[0;32m   2260\u001b[0m             \u001b[1;32mwith\u001b[0m \u001b[0mself\u001b[0m\u001b[1;33m.\u001b[0m\u001b[0mbuiltin_trap\u001b[0m\u001b[1;33m:\u001b[0m\u001b[1;33m\u001b[0m\u001b[0m\n\u001b[1;32m-> 2261\u001b[1;33m                 \u001b[0mresult\u001b[0m \u001b[1;33m=\u001b[0m \u001b[0mfn\u001b[0m\u001b[1;33m(\u001b[0m\u001b[0mmagic_arg_s\u001b[0m\u001b[1;33m,\u001b[0m \u001b[0mcell\u001b[0m\u001b[1;33m)\u001b[0m\u001b[1;33m\u001b[0m\u001b[0m\n\u001b[0m\u001b[0;32m   2262\u001b[0m             \u001b[1;32mreturn\u001b[0m \u001b[0mresult\u001b[0m\u001b[1;33m\u001b[0m\u001b[0m\n\u001b[0;32m   2263\u001b[0m \u001b[1;33m\u001b[0m\u001b[0m\n",
      "\u001b[1;32m/usr/local/lib/python2.7/dist-packages/IPython/core/magics/execution.pyc\u001b[0m in \u001b[0;36mtime\u001b[1;34m(self, line, cell, local_ns)\u001b[0m\n",
      "\u001b[1;32m/usr/local/lib/python2.7/dist-packages/IPython/core/magic.pyc\u001b[0m in \u001b[0;36m<lambda>\u001b[1;34m(f, *a, **k)\u001b[0m\n\u001b[0;32m    191\u001b[0m     \u001b[1;31m# but it's overkill for just that one bit of state.\u001b[0m\u001b[1;33m\u001b[0m\u001b[1;33m\u001b[0m\u001b[0m\n\u001b[0;32m    192\u001b[0m     \u001b[1;32mdef\u001b[0m \u001b[0mmagic_deco\u001b[0m\u001b[1;33m(\u001b[0m\u001b[0marg\u001b[0m\u001b[1;33m)\u001b[0m\u001b[1;33m:\u001b[0m\u001b[1;33m\u001b[0m\u001b[0m\n\u001b[1;32m--> 193\u001b[1;33m         \u001b[0mcall\u001b[0m \u001b[1;33m=\u001b[0m \u001b[1;32mlambda\u001b[0m \u001b[0mf\u001b[0m\u001b[1;33m,\u001b[0m \u001b[1;33m*\u001b[0m\u001b[0ma\u001b[0m\u001b[1;33m,\u001b[0m \u001b[1;33m**\u001b[0m\u001b[0mk\u001b[0m\u001b[1;33m:\u001b[0m \u001b[0mf\u001b[0m\u001b[1;33m(\u001b[0m\u001b[1;33m*\u001b[0m\u001b[0ma\u001b[0m\u001b[1;33m,\u001b[0m \u001b[1;33m**\u001b[0m\u001b[0mk\u001b[0m\u001b[1;33m)\u001b[0m\u001b[1;33m\u001b[0m\u001b[0m\n\u001b[0m\u001b[0;32m    194\u001b[0m \u001b[1;33m\u001b[0m\u001b[0m\n\u001b[0;32m    195\u001b[0m         \u001b[1;32mif\u001b[0m \u001b[0mcallable\u001b[0m\u001b[1;33m(\u001b[0m\u001b[0marg\u001b[0m\u001b[1;33m)\u001b[0m\u001b[1;33m:\u001b[0m\u001b[1;33m\u001b[0m\u001b[0m\n",
      "\u001b[1;32m/usr/local/lib/python2.7/dist-packages/IPython/core/magics/execution.pyc\u001b[0m in \u001b[0;36mtime\u001b[1;34m(self, line, cell, local_ns)\u001b[0m\n\u001b[0;32m   1164\u001b[0m         \u001b[1;32melse\u001b[0m\u001b[1;33m:\u001b[0m\u001b[1;33m\u001b[0m\u001b[0m\n\u001b[0;32m   1165\u001b[0m             \u001b[0mst\u001b[0m \u001b[1;33m=\u001b[0m \u001b[0mclock2\u001b[0m\u001b[1;33m(\u001b[0m\u001b[1;33m)\u001b[0m\u001b[1;33m\u001b[0m\u001b[0m\n\u001b[1;32m-> 1166\u001b[1;33m             \u001b[1;32mexec\u001b[0m\u001b[1;33m(\u001b[0m\u001b[0mcode\u001b[0m\u001b[1;33m,\u001b[0m \u001b[0mglob\u001b[0m\u001b[1;33m,\u001b[0m \u001b[0mlocal_ns\u001b[0m\u001b[1;33m)\u001b[0m\u001b[1;33m\u001b[0m\u001b[0m\n\u001b[0m\u001b[0;32m   1167\u001b[0m             \u001b[0mend\u001b[0m \u001b[1;33m=\u001b[0m \u001b[0mclock2\u001b[0m\u001b[1;33m(\u001b[0m\u001b[1;33m)\u001b[0m\u001b[1;33m\u001b[0m\u001b[0m\n\u001b[0;32m   1168\u001b[0m             \u001b[0mout\u001b[0m \u001b[1;33m=\u001b[0m \u001b[0mNone\u001b[0m\u001b[1;33m\u001b[0m\u001b[0m\n",
      "\u001b[1;32m<timed exec>\u001b[0m in \u001b[0;36m<module>\u001b[1;34m()\u001b[0m\n",
      "\u001b[1;32m<ipython-input-12-b34673f5e449>\u001b[0m in \u001b[0;36mplot_mse_graph\u001b[1;34m(clf, X_train, X_test, y_train, y_test, prefix, print_train)\u001b[0m\n\u001b[0;32m      1\u001b[0m \u001b[1;32mdef\u001b[0m \u001b[0mplot_mse_graph\u001b[0m\u001b[1;33m(\u001b[0m\u001b[0mclf\u001b[0m\u001b[1;33m,\u001b[0m \u001b[0mX_train\u001b[0m\u001b[1;33m,\u001b[0m \u001b[0mX_test\u001b[0m\u001b[1;33m,\u001b[0m \u001b[0my_train\u001b[0m\u001b[1;33m,\u001b[0m \u001b[0my_test\u001b[0m\u001b[1;33m,\u001b[0m \u001b[0mprefix\u001b[0m\u001b[1;33m,\u001b[0m \u001b[0mprint_train\u001b[0m\u001b[1;33m=\u001b[0m\u001b[0mTrue\u001b[0m\u001b[1;33m)\u001b[0m\u001b[1;33m:\u001b[0m\u001b[1;33m\u001b[0m\u001b[0m\n\u001b[0;32m      2\u001b[0m     \u001b[0mclf\u001b[0m\u001b[1;33m.\u001b[0m\u001b[0mfit\u001b[0m\u001b[1;33m(\u001b[0m\u001b[0mX_train\u001b[0m\u001b[1;33m,\u001b[0m \u001b[0my_train\u001b[0m\u001b[1;33m)\u001b[0m\u001b[1;33m\u001b[0m\u001b[0m\n\u001b[1;32m----> 3\u001b[1;33m     \u001b[0mtrain_mses\u001b[0m \u001b[1;33m=\u001b[0m \u001b[0mget_mse_list\u001b[0m\u001b[1;33m(\u001b[0m\u001b[0mX_train\u001b[0m\u001b[1;33m,\u001b[0m \u001b[0my_train\u001b[0m\u001b[1;33m,\u001b[0m \u001b[0mclf\u001b[0m\u001b[1;33m)\u001b[0m\u001b[1;33m\u001b[0m\u001b[0m\n\u001b[0m\u001b[0;32m      4\u001b[0m     \u001b[0mtest_mses\u001b[0m \u001b[1;33m=\u001b[0m \u001b[0mget_mse_list\u001b[0m\u001b[1;33m(\u001b[0m\u001b[0mX_test\u001b[0m\u001b[1;33m,\u001b[0m \u001b[0my_test\u001b[0m\u001b[1;33m,\u001b[0m \u001b[0mclf\u001b[0m\u001b[1;33m)\u001b[0m\u001b[1;33m\u001b[0m\u001b[0m\n\u001b[0;32m      5\u001b[0m     \u001b[1;32mif\u001b[0m \u001b[0mprint_train\u001b[0m\u001b[1;33m:\u001b[0m\u001b[1;33m\u001b[0m\u001b[0m\n",
      "\u001b[1;32m<ipython-input-11-30279099f999>\u001b[0m in \u001b[0;36mget_mse_list\u001b[1;34m(X, y, clf)\u001b[0m\n\u001b[0;32m      6\u001b[0m     \u001b[1;32mfor\u001b[0m \u001b[0mi\u001b[0m\u001b[1;33m,\u001b[0m \u001b[0mtree\u001b[0m \u001b[1;32min\u001b[0m \u001b[0menumerate\u001b[0m\u001b[1;33m(\u001b[0m\u001b[0mclf\u001b[0m\u001b[1;33m.\u001b[0m\u001b[0mestimators_\u001b[0m\u001b[1;33m)\u001b[0m\u001b[1;33m:\u001b[0m\u001b[1;33m\u001b[0m\u001b[0m\n\u001b[0;32m      7\u001b[0m         \u001b[0mpredictions\u001b[0m\u001b[1;33m.\u001b[0m\u001b[0mappend\u001b[0m\u001b[1;33m(\u001b[0m\u001b[0mtree\u001b[0m\u001b[1;33m.\u001b[0m\u001b[0mpredict\u001b[0m\u001b[1;33m(\u001b[0m\u001b[0mX\u001b[0m\u001b[1;33m)\u001b[0m\u001b[1;33m)\u001b[0m\u001b[1;33m\u001b[0m\u001b[0m\n\u001b[1;32m----> 8\u001b[1;33m         \u001b[0mrf_prediction\u001b[0m \u001b[1;33m=\u001b[0m \u001b[0mmean\u001b[0m\u001b[1;33m(\u001b[0m\u001b[0mpredictions\u001b[0m\u001b[1;33m,\u001b[0m \u001b[0maxis\u001b[0m\u001b[1;33m=\u001b[0m\u001b[1;36m0\u001b[0m\u001b[1;33m)\u001b[0m\u001b[1;33m\u001b[0m\u001b[0m\n\u001b[0m\u001b[0;32m      9\u001b[0m         \u001b[0mmses\u001b[0m\u001b[1;33m.\u001b[0m\u001b[0mappend\u001b[0m\u001b[1;33m(\u001b[0m\u001b[0mmse\u001b[0m\u001b[1;33m(\u001b[0m\u001b[0my\u001b[0m\u001b[1;33m,\u001b[0m \u001b[0mrf_prediction\u001b[0m\u001b[1;33m)\u001b[0m\u001b[1;33m)\u001b[0m\u001b[1;33m\u001b[0m\u001b[0m\n\u001b[0;32m     10\u001b[0m     \u001b[1;32mprint\u001b[0m \u001b[1;34m'Last score'\u001b[0m\u001b[1;33m,\u001b[0m \u001b[0mmses\u001b[0m\u001b[1;33m[\u001b[0m\u001b[1;33m-\u001b[0m\u001b[1;36m1\u001b[0m\u001b[1;33m]\u001b[0m\u001b[1;33m\u001b[0m\u001b[0m\n",
      "\u001b[1;31mNameError\u001b[0m: global name 'mean' is not defined"
     ]
    }
   ],
   "source": [
    "%%time\n",
    "n_estimators = 50\n",
    "from sklearn.ensemble import RandomForestRegressor\n",
    "plot_mse_graph(RandomForestRegressor(n_estimators=n_estimators, n_jobs=3),\n",
    "               X_train, X_test, y_train, y_test,\n",
    "               prefix='RF')\n",
    "plot_mse_graph(ExtraTreesRegressor(n_estimators=n_estimators, n_jobs=3, bootstrap=True),\n",
    "               X_train, X_test, y_train, y_test,\n",
    "               prefix='ET')"
   ]
  },
  {
   "cell_type": "markdown",
   "metadata": {},
   "source": [
    "## Важности признаков"
   ]
  },
  {
   "cell_type": "code",
   "execution_count": null,
   "metadata": {
    "collapsed": false
   },
   "outputs": [],
   "source": [
    "importances = RandomForestRegressor(n_estimators=n_estimators, n_jobs=3).fit(X_train, y_train).feature_importances_\n",
    "plot(sorted(importances))\n",
    "print sum(importances)\n",
    "xlabel('feature number')\n",
    "ylabel('feature importance')"
   ]
  },
  {
   "cell_type": "markdown",
   "metadata": {},
   "source": [
    "## Out-of-bag score"
   ]
  },
  {
   "cell_type": "code",
   "execution_count": null,
   "metadata": {
    "collapsed": false
   },
   "outputs": [],
   "source": [
    "predicted = RandomForestRegressor(n_estimators=n_estimators, n_jobs=3, oob_score=True).fit(X_train, y_train).oob_prediction_\n",
    "print mse(y_train, predicted)"
   ]
  },
  {
   "cell_type": "markdown",
   "metadata": {},
   "source": [
    "## Choosing features subset size"
   ]
  },
  {
   "cell_type": "code",
   "execution_count": null,
   "metadata": {
    "collapsed": false
   },
   "outputs": [],
   "source": [
    "for i in range(1, 10, 2):\n",
    "    plot_mse_graph(RandomForestRegressor(n_estimators=n_estimators, n_jobs=3, max_features=i),\n",
    "        X_train, X_test, y_train, y_test,\n",
    "        prefix='i=' + str(i),\n",
    "        print_train=False)\n",
    "legend(bbox_to_anchor=(1.05, 1), loc=2, borderaxespad=0.)"
   ]
  }
 ],
 "metadata": {
  "kernelspec": {
   "display_name": "Python 2",
   "language": "python",
   "name": "python2"
  },
  "language_info": {
   "codemirror_mode": {
    "name": "ipython",
    "version": 2
   },
   "file_extension": ".py",
   "mimetype": "text/x-python",
   "name": "python",
   "nbconvert_exporter": "python",
   "pygments_lexer": "ipython2",
   "version": "2.7.6"
  }
 },
 "nbformat": 4,
 "nbformat_minor": 0
}
